{
  "nbformat": 4,
  "nbformat_minor": 0,
  "metadata": {
    "colab": {
      "name": "LDA model",
      "provenance": [],
      "collapsed_sections": []
    },
    "kernelspec": {
      "name": "python3",
      "display_name": "Python 3"
    }
  },
  "cells": [
    {
      "cell_type": "markdown",
      "metadata": {
        "id": "jsfVbVDwuPvM",
        "colab_type": "text"
      },
      "source": [
        "[Linear discriminant analysis, two-classes](http://research.cs.tamu.edu/prism/lectures/pr/pr_l10.pdf)"
      ]
    },
    {
      "cell_type": "code",
      "metadata": {
        "id": "v8fgKmRVd9qG",
        "colab_type": "code",
        "colab": {}
      },
      "source": [
        "import numpy as np\n",
        "import matplotlib.pyplot as plt"
      ],
      "execution_count": 0,
      "outputs": []
    },
    {
      "cell_type": "code",
      "metadata": {
        "id": "KZ-VlSI_gqfi",
        "colab_type": "code",
        "colab": {}
      },
      "source": [
        "#Generate a 2D dataset\n",
        "X_1 = np.array([[4, 2],[2, 4], [2, 3],[3, 6],[4, 4]])\n",
        "X_2 = np.array([[9,10],[6,8],[9,5],[8,7],[10,8]])"
      ],
      "execution_count": 0,
      "outputs": []
    },
    {
      "cell_type": "code",
      "metadata": {
        "id": "VHlVlCh-g3Ea",
        "colab_type": "code",
        "outputId": "395a5714-ca3b-4505-9293-57d618dce492",
        "colab": {
          "base_uri": "https://localhost:8080/",
          "height": 265
        }
      },
      "source": [
        "#plot each data point on the feature space\n",
        "plt.scatter(X_1[:,0],X_1[:,1])\n",
        "plt.scatter(X_2[:,0],X_2[:,1], color = 'r')\n",
        "plt.xlim([0,11])\n",
        "plt.ylim([0,11])\n",
        "plt.grid('True')\n",
        "plt.show()"
      ],
      "execution_count": 3,
      "outputs": [
        {
          "output_type": "display_data",
          "data": {
            "image/png": "[encoded data removed]",
            "text/plain": [
              "<Figure size 432x288 with 1 Axes>"
            ]
          },
          "metadata": {
            "tags": []
          }
        }
      ]
    },
    {
      "cell_type": "code",
      "metadata": {
        "id": "81hpzURnjCu8",
        "colab_type": "code",
        "colab": {}
      },
      "source": [
        "#Compute mean vectors for each class\n",
        "m1 = np.array((np.mean(X_1[:,0]),np.mean(X_1[:,1])))\n",
        "m2 = np.array((np.mean(X_2[:,0]),np.mean(X_2[:,1])))"
      ],
      "execution_count": 0,
      "outputs": []
    },
    {
      "cell_type": "code",
      "metadata": {
        "id": "oiVMGEMmkVSC",
        "colab_type": "code",
        "colab": {
          "base_uri": "https://localhost:8080/",
          "height": 54
        },
        "outputId": "c5982d60-d83b-4821-e358-ea4f90b7e658"
      },
      "source": [
        "#Compute covariance matrix for each class\n",
        "S1 = np.cov(np.mat(X_1).T)\n",
        "S2 = np.cov(np.mat(X_2).T)\n",
        "#Compute within-class scatter\n",
        "Sw = S1 + S2\n",
        "Sw"
      ],
      "execution_count": 15,
      "outputs": [
        {
          "output_type": "execute_result",
          "data": {
            "text/plain": [
              "array([[ 3.3, -0.3],\n",
              "       [-0.3,  5.5]])"
            ]
          },
          "metadata": {
            "tags": []
          },
          "execution_count": 15
        }
      ]
    },
    {
      "cell_type": "code",
      "metadata": {
        "id": "opiD997Zk9XA",
        "colab_type": "code",
        "colab": {
          "base_uri": "https://localhost:8080/",
          "height": 54
        },
        "outputId": "5388eb3a-fd68-4d2e-c4cc-0eb43aa933e8"
      },
      "source": [
        "#Compute between-class scatter\n",
        "Sb = np.mat(m1-m2).T*np.mat(m1-m2)\n",
        "Sb"
      ],
      "execution_count": 6,
      "outputs": [
        {
          "output_type": "execute_result",
          "data": {
            "text/plain": [
              "matrix([[29.16, 20.52],\n",
              "        [20.52, 14.44]])"
            ]
          },
          "metadata": {
            "tags": []
          },
          "execution_count": 6
        }
      ]
    },
    {
      "cell_type": "code",
      "metadata": {
        "id": "TvKo6Ybqmiq5",
        "colab_type": "code",
        "colab": {}
      },
      "source": [
        "#Compute the Fisher criterion\n",
        "invSw = np.linalg.inv(Sw)\n",
        "invSw_by_Sb = invSw*Sb\n",
        "\n",
        "#Compute the eigenvectors \n",
        "[V,D] = np.linalg.eig(invSw_by_Sb)"
      ],
      "execution_count": 0,
      "outputs": []
    },
    {
      "cell_type": "code",
      "metadata": {
        "id": "QoN76zzTm7mr",
        "colab_type": "code",
        "outputId": "d299d21c-8cad-407e-ba4b-1a88b218421f",
        "colab": {
          "base_uri": "https://localhost:8080/",
          "height": 54
        }
      },
      "source": [
        "#Select the specific direction for the projection\n",
        "print('eigen-vector ',np.mat(D[:,0]).T, ' with eigen-value ',V[0])\n",
        "print('eigen-vector ',np.mat(D[:,1]).T, ' with eigen-value ',V[1])\n",
        "W = V[0]"
      ],
      "execution_count": 17,
      "outputs": [
        {
          "output_type": "stream",
          "text": [
            "eigen-vector  [[0.90878558 0.41726342]]  with eigen-value  12.20066445182724\n",
            "eigen-vector  [[-0.57549341  0.81780642]]  with eigen-value  0.0\n"
          ],
          "name": "stdout"
        }
      ]
    },
    {
      "cell_type": "code",
      "metadata": {
        "id": "jrd2yD2ruZxE",
        "colab_type": "code",
        "colab": {}
      },
      "source": [
        "#Project each point in the set\n",
        "Y1 = np.mat(X_1)*np.mat(D[:,0])\n",
        "Y2 = np.mat(X_2)*np.mat(D[:,0])"
      ],
      "execution_count": 0,
      "outputs": []
    },
    {
      "cell_type": "code",
      "metadata": {
        "id": "35jV67OEuS7n",
        "colab_type": "code",
        "colab": {}
      },
      "source": [
        "def gaussian(x, mu, sig): #gaussian function\n",
        "    return np.exp(-np.power(x - mu, 2.) / (2 * np.power(sig, 2.)))"
      ],
      "execution_count": 0,
      "outputs": []
    },
    {
      "cell_type": "code",
      "metadata": {
        "id": "tlcaVZD6upjU",
        "colab_type": "code",
        "colab": {}
      },
      "source": [
        "#With the new projected data, generate a representation of the distribution \n",
        "A = gaussian(np.linspace(0,15,50), np.mean(Y1), np.std(Y1))\n",
        "B = gaussian(np.linspace(0,15,50), np.mean(Y2), np.std(Y2))"
      ],
      "execution_count": 0,
      "outputs": []
    },
    {
      "cell_type": "code",
      "metadata": {
        "id": "_smcl3Fq53au",
        "colab_type": "code",
        "outputId": "05f56db7-8c5e-4a8e-88de-1cc2723eb91e",
        "colab": {
          "base_uri": "https://localhost:8080/",
          "height": 297
        }
      },
      "source": [
        "#Plot the new distributions\n",
        "plt.plot(np.linspace(0,15,50),A)\n",
        "plt.plot(np.linspace(0,15,50),B, color='r')\n",
        "plt.scatter(np.array(Y1[:]),np.zeros(len(Y1)))\n",
        "plt.scatter(np.array(Y2[:]),np.zeros(len(Y2)), color= 'r')\n",
        "plt.xlabel('y')\n",
        "plt.ylabel('P(y|x)')\n",
        "plt.xlim([0,15])"
      ],
      "execution_count": 19,
      "outputs": [
        {
          "output_type": "execute_result",
          "data": {
            "text/plain": [
              "(0, 15)"
            ]
          },
          "metadata": {
            "tags": []
          },
          "execution_count": 19
        },
        {
          "output_type": "display_data",
          "data": {
            "image/png": "[encoded data removed]",
            "text/plain": [
              "<Figure size 432x288 with 1 Axes>"
            ]
          },
          "metadata": {
            "tags": []
          }
        }
      ]
    },
    {
      "cell_type": "code",
      "metadata": {
        "id": "_VWw5qx-6EJV",
        "colab_type": "code",
        "colab": {}
      },
      "source": [
        ""
      ],
      "execution_count": 0,
      "outputs": []
    }
  ]
}